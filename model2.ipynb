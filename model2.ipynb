{
 "cells": [
  {
   "cell_type": "code",
   "execution_count": 3,
   "metadata": {},
   "outputs": [
    {
     "name": "stdout",
     "output_type": "stream",
     "text": [
      "Requirement already satisfied: mediapipe in /opt/homebrew/anaconda3/lib/python3.11/site-packages (0.10.21)\n",
      "Requirement already satisfied: opencv-python in /opt/homebrew/anaconda3/lib/python3.11/site-packages (4.11.0.86)\n",
      "Requirement already satisfied: pandas in /opt/homebrew/anaconda3/lib/python3.11/site-packages (2.1.4)\n",
      "Requirement already satisfied: numpy in /opt/homebrew/anaconda3/lib/python3.11/site-packages (1.26.4)\n",
      "Requirement already satisfied: absl-py in /opt/homebrew/anaconda3/lib/python3.11/site-packages (from mediapipe) (2.1.0)\n",
      "Requirement already satisfied: attrs>=19.1.0 in /opt/homebrew/anaconda3/lib/python3.11/site-packages (from mediapipe) (23.1.0)\n",
      "Requirement already satisfied: flatbuffers>=2.0 in /opt/homebrew/anaconda3/lib/python3.11/site-packages (from mediapipe) (25.1.24)\n",
      "Requirement already satisfied: jax in /opt/homebrew/anaconda3/lib/python3.11/site-packages (from mediapipe) (0.5.3)\n",
      "Requirement already satisfied: jaxlib in /opt/homebrew/anaconda3/lib/python3.11/site-packages (from mediapipe) (0.5.3)\n",
      "Requirement already satisfied: matplotlib in /opt/homebrew/anaconda3/lib/python3.11/site-packages (from mediapipe) (3.8.0)\n",
      "Requirement already satisfied: opencv-contrib-python in /opt/homebrew/anaconda3/lib/python3.11/site-packages (from mediapipe) (4.11.0.86)\n",
      "Requirement already satisfied: protobuf<5,>=4.25.3 in /opt/homebrew/anaconda3/lib/python3.11/site-packages (from mediapipe) (4.25.6)\n",
      "Requirement already satisfied: sounddevice>=0.4.4 in /opt/homebrew/anaconda3/lib/python3.11/site-packages (from mediapipe) (0.5.1)\n",
      "Requirement already satisfied: sentencepiece in /opt/homebrew/anaconda3/lib/python3.11/site-packages (from mediapipe) (0.2.0)\n",
      "Requirement already satisfied: python-dateutil>=2.8.2 in /opt/homebrew/anaconda3/lib/python3.11/site-packages (from pandas) (2.8.2)\n",
      "Requirement already satisfied: pytz>=2020.1 in /opt/homebrew/anaconda3/lib/python3.11/site-packages (from pandas) (2023.3.post1)\n",
      "Requirement already satisfied: tzdata>=2022.1 in /opt/homebrew/anaconda3/lib/python3.11/site-packages (from pandas) (2023.3)\n",
      "Requirement already satisfied: six>=1.5 in /opt/homebrew/anaconda3/lib/python3.11/site-packages (from python-dateutil>=2.8.2->pandas) (1.16.0)\n",
      "Requirement already satisfied: CFFI>=1.0 in /opt/homebrew/anaconda3/lib/python3.11/site-packages (from sounddevice>=0.4.4->mediapipe) (1.16.0)\n",
      "Requirement already satisfied: ml_dtypes>=0.4.0 in /opt/homebrew/anaconda3/lib/python3.11/site-packages (from jax->mediapipe) (0.4.1)\n",
      "Requirement already satisfied: opt_einsum in /opt/homebrew/anaconda3/lib/python3.11/site-packages (from jax->mediapipe) (3.4.0)\n",
      "Requirement already satisfied: scipy>=1.11.1 in /opt/homebrew/anaconda3/lib/python3.11/site-packages (from jax->mediapipe) (1.11.4)\n",
      "Requirement already satisfied: contourpy>=1.0.1 in /opt/homebrew/anaconda3/lib/python3.11/site-packages (from matplotlib->mediapipe) (1.2.0)\n",
      "Requirement already satisfied: cycler>=0.10 in /opt/homebrew/anaconda3/lib/python3.11/site-packages (from matplotlib->mediapipe) (0.11.0)\n",
      "Requirement already satisfied: fonttools>=4.22.0 in /opt/homebrew/anaconda3/lib/python3.11/site-packages (from matplotlib->mediapipe) (4.25.0)\n",
      "Requirement already satisfied: kiwisolver>=1.0.1 in /opt/homebrew/anaconda3/lib/python3.11/site-packages (from matplotlib->mediapipe) (1.4.4)\n",
      "Requirement already satisfied: packaging>=20.0 in /opt/homebrew/anaconda3/lib/python3.11/site-packages (from matplotlib->mediapipe) (23.1)\n",
      "Requirement already satisfied: pillow>=6.2.0 in /opt/homebrew/anaconda3/lib/python3.11/site-packages (from matplotlib->mediapipe) (10.2.0)\n",
      "Requirement already satisfied: pyparsing>=2.3.1 in /opt/homebrew/anaconda3/lib/python3.11/site-packages (from matplotlib->mediapipe) (3.0.9)\n",
      "Requirement already satisfied: pycparser in /opt/homebrew/anaconda3/lib/python3.11/site-packages (from CFFI>=1.0->sounddevice>=0.4.4->mediapipe) (2.21)\n",
      "Note: you may need to restart the kernel to use updated packages.\n"
     ]
    }
   ],
   "source": [
    "pip install mediapipe opencv-python pandas numpy\n"
   ]
  },
  {
   "cell_type": "code",
   "execution_count": 4,
   "metadata": {},
   "outputs": [
    {
     "name": "stderr",
     "output_type": "stream",
     "text": [
      "I0000 00:00:1743190659.340612  161501 gl_context.cc:369] GL version: 2.1 (2.1 Metal - 89.3), renderer: Apple M2\n",
      "W0000 00:00:1743190659.414327  162384 inference_feedback_manager.cc:114] Feedback manager requires a model with a single signature inference. Disabling support for feedback tensors.\n",
      "W0000 00:00:1743190659.428214  162384 inference_feedback_manager.cc:114] Feedback manager requires a model with a single signature inference. Disabling support for feedback tensors.\n",
      "W0000 00:00:1743190659.429569  162386 inference_feedback_manager.cc:114] Feedback manager requires a model with a single signature inference. Disabling support for feedback tensors.\n",
      "W0000 00:00:1743190659.429755  162388 inference_feedback_manager.cc:114] Feedback manager requires a model with a single signature inference. Disabling support for feedback tensors.\n",
      "W0000 00:00:1743190659.430446  162391 inference_feedback_manager.cc:114] Feedback manager requires a model with a single signature inference. Disabling support for feedback tensors.\n",
      "W0000 00:00:1743190659.434748  162388 inference_feedback_manager.cc:114] Feedback manager requires a model with a single signature inference. Disabling support for feedback tensors.\n",
      "W0000 00:00:1743190659.438875  162386 inference_feedback_manager.cc:114] Feedback manager requires a model with a single signature inference. Disabling support for feedback tensors.\n",
      "W0000 00:00:1743190659.439223  162391 inference_feedback_manager.cc:114] Feedback manager requires a model with a single signature inference. Disabling support for feedback tensors.\n",
      "W0000 00:00:1743190659.446411  162384 landmark_projection_calculator.cc:186] Using NORM_RECT without IMAGE_DIMENSIONS is only supported for the square ROI. Provide IMAGE_DIMENSIONS or use PROJECTION_MATRIX.\n",
      "2025-03-29 01:07:39.848 python[5368:161501] +[IMKClient subclass]: chose IMKClient_Modern\n",
      "2025-03-29 01:07:39.848 python[5368:161501] +[IMKInputSession subclass]: chose IMKInputSession_Modern\n"
     ]
    },
    {
     "name": "stdout",
     "output_type": "stream",
     "text": [
      "✅ Landmark extraction completed! Data saved to 'landmarks_output.csv'.\n",
      "Execution Time: 4.476397 seconds\n"
     ]
    }
   ],
   "source": [
    "import cv2\n",
    "import mediapipe as mp\n",
    "import pandas as pd\n",
    "import time\n",
    "\n",
    "\n",
    "start_time=time.time()\n",
    "\n",
    "\n",
    "# Initialize MediaPipe Holistic model\n",
    "mp_holistic = mp.solutions.holistic\n",
    "mp_drawing = mp.solutions.drawing_utils\n",
    "\n",
    "# Video file path (CHANGE THIS TO YOUR VIDEO FILE PATH)\n",
    "video_path = \"/Users/anand/Desktop/gesturio.ai/ML/asl_demo_video.mp4\"\n",
    "cap = cv2.VideoCapture(video_path)\n",
    "\n",
    "# Initialize storage\n",
    "landmark_data = []\n",
    "frame_num = 0  # Frame counter\n",
    "\n",
    "# Load MediaPipe Holistic\n",
    "with mp_holistic.Holistic(static_image_mode=False, \n",
    "                          min_detection_confidence=0.5, \n",
    "                          min_tracking_confidence=0.5) as holistic:\n",
    "\n",
    "    while cap.isOpened():\n",
    "        ret, frame = cap.read()\n",
    "        if not ret:\n",
    "            break  # Exit when video ends\n",
    "\n",
    "        frame_num += 1  # Track frame number\n",
    "        rgb_frame = cv2.cvtColor(frame, cv2.COLOR_BGR2RGB)  # Convert to RGB\n",
    "        results = holistic.process(rgb_frame)  # Get holistic results\n",
    "\n",
    "        # Function to save landmarks\n",
    "        def save_landmarks(landmarks, type_name):\n",
    "            if landmarks:\n",
    "                for i, lm in enumerate(landmarks.landmark):\n",
    "                    landmark_data.append({\n",
    "                        \"frame\": frame_num,\n",
    "                        \"row_id\": f\"{frame_num}_{type_name}_{i}\",\n",
    "                        \"type\": type_name,\n",
    "                        \"landmark_index\": i,\n",
    "                        \"x\": lm.x,\n",
    "                        \"y\": lm.y,\n",
    "                        \"z\": lm.z\n",
    "                    })\n",
    "\n",
    "        # Extract landmarks\n",
    "        save_landmarks(results.pose_landmarks, \"pose\")\n",
    "        save_landmarks(results.face_landmarks, \"face\")\n",
    "        save_landmarks(results.left_hand_landmarks, \"left_hand\")\n",
    "        save_landmarks(results.right_hand_landmarks, \"right_hand\")\n",
    "\n",
    "        # Optional: Display video with landmarks\n",
    "        mp_drawing.draw_landmarks(frame, results.pose_landmarks, mp_holistic.POSE_CONNECTIONS)\n",
    "        mp_drawing.draw_landmarks(frame, results.face_landmarks, mp_holistic.FACEMESH_TESSELATION)\n",
    "        mp_drawing.draw_landmarks(frame, results.left_hand_landmarks, mp_holistic.HAND_CONNECTIONS)\n",
    "        mp_drawing.draw_landmarks(frame, results.right_hand_landmarks, mp_holistic.HAND_CONNECTIONS)\n",
    "\n",
    "        cv2.imshow(\"Video Processing\", frame)\n",
    "        if cv2.waitKey(1) & 0xFF == ord('q'):\n",
    "            break\n",
    "\n",
    "cap.release()\n",
    "cv2.destroyAllWindows()\n",
    "\n",
    "\n",
    "\n",
    "# Save the data to a CSV file\n",
    "df = pd.DataFrame(landmark_data)\n",
    "df.to_csv(\"landmarks_output.csv\", index=False)\n",
    "\n",
    "print(\"✅ Landmark extraction completed! Data saved to 'landmarks_output.csv'.\")\n",
    "end_time=time.time()\n",
    "execution_time=end_time-start_time\n",
    "print(f\"Execution Time: {execution_time:.6f} seconds\")\n"
   ]
  }
 ],
 "metadata": {
  "kernelspec": {
   "display_name": "Python 3",
   "language": "python",
   "name": "python3"
  },
  "language_info": {
   "codemirror_mode": {
    "name": "ipython",
    "version": 3
   },
   "file_extension": ".py",
   "mimetype": "text/x-python",
   "name": "python",
   "nbconvert_exporter": "python",
   "pygments_lexer": "ipython3",
   "version": "3.11.7"
  }
 },
 "nbformat": 4,
 "nbformat_minor": 2
}
